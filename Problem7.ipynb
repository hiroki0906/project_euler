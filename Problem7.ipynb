{
 "cells": [
  {
   "cell_type": "code",
   "execution_count": 1,
   "metadata": {},
   "outputs": [],
   "source": [
    "#素数を小さい方から6つ並べると 2, 3, 5, 7, 11, 13 であり, 6番目の素数は 13 である.\n",
    "#10001 番目の素数を求めよ."
   ]
  },
  {
   "cell_type": "code",
   "execution_count": 2,
   "metadata": {},
   "outputs": [],
   "source": [
    "#対象となる数字を素数群で割る⇒割り切れなかったら素数なのでそれを素数群に加えていく。\n",
    "from numba import jit\n",
    "#遅そうなのでnumba使って高速化。numpy使っていないのでmsオーダーにはいかないけど仕方ない…。\n",
    "@jit\n",
    "def find_primes(n, prime_list):\n",
    "    #2刻みにするのは、偶数を除くため\n",
    "    prime = 3\n",
    "    while len(prime_list) < n:\n",
    "        for i in prime_list:\n",
    "            if prime % i == 0:\n",
    "                break\n",
    "        else:\n",
    "            prime_list.append(prime)\n",
    "        prime = prime + 2\n",
    "    return prime_list\n"
   ]
  },
  {
   "cell_type": "code",
   "execution_count": 4,
   "metadata": {},
   "outputs": [
    {
     "name": "stdout",
     "output_type": "stream",
     "text": [
      "10001\n",
      "104743\n"
     ]
    }
   ],
   "source": [
    "prime_list = [2]\n",
    "result = find_primes(10001, prime_list)\n",
    "print(len(result))\n",
    "print(result[-1])"
   ]
  },
  {
   "cell_type": "code",
   "execution_count": 4,
   "metadata": {},
   "outputs": [
    {
     "ename": "SyntaxError",
     "evalue": "invalid syntax (<ipython-input-4-ead14fa4dacf>, line 2)",
     "output_type": "error",
     "traceback": [
      "\u001b[1;36m  File \u001b[1;32m\"<ipython-input-4-ead14fa4dacf>\"\u001b[1;36m, line \u001b[1;32m2\u001b[0m\n\u001b[1;33m    5.append(list)\u001b[0m\n\u001b[1;37m           ^\u001b[0m\n\u001b[1;31mSyntaxError\u001b[0m\u001b[1;31m:\u001b[0m invalid syntax\n"
     ]
    }
   ],
   "source": []
  },
  {
   "cell_type": "code",
   "execution_count": null,
   "metadata": {},
   "outputs": [],
   "source": []
  }
 ],
 "metadata": {
  "kernelspec": {
   "display_name": "Python 3",
   "language": "python",
   "name": "python3"
  },
  "language_info": {
   "codemirror_mode": {
    "name": "ipython",
    "version": 3
   },
   "file_extension": ".py",
   "mimetype": "text/x-python",
   "name": "python",
   "nbconvert_exporter": "python",
   "pygments_lexer": "ipython3",
   "version": "3.7.3"
  }
 },
 "nbformat": 4,
 "nbformat_minor": 2
}
