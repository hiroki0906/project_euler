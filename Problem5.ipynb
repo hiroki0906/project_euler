{
 "cells": [
  {
   "cell_type": "code",
   "execution_count": 61,
   "metadata": {},
   "outputs": [],
   "source": [
    "#2520 は 1 から 10 の数字の全ての整数で割り切れる数字であり, そのような数字の中では最小の値である.\n",
    "#では, 1 から 20 までの整数全てで割り切れる数字の中で最小の正の数はいくらになるか.\n",
    "#手順：1~20までの整数の最小公倍数\n",
    "#ユークリッドの互除法を使って、最大公約数(gcd)を求める⇒最小公倍数(lcm)を求める。"
   ]
  },
  {
   "cell_type": "code",
   "execution_count": 62,
   "metadata": {},
   "outputs": [],
   "source": [
    "import time\n",
    "start = time.time()"
   ]
  },
  {
   "cell_type": "code",
   "execution_count": 63,
   "metadata": {},
   "outputs": [
    {
     "name": "stdout",
     "output_type": "stream",
     "text": [
      "range(2, 21)\n"
     ]
    }
   ],
   "source": [
    "num = range(2,21)\n",
    "print(num)"
   ]
  },
  {
   "cell_type": "code",
   "execution_count": 64,
   "metadata": {},
   "outputs": [],
   "source": [
    "#ユークリッドの互除法\n",
    "#2 つの自然数 a, b (a ≧ b) について、a の b による剰余を r とすると、 a と b との最大公約数は b と r との最大公約数に等しいという\n",
    "#性質が成り立つ。この性質を利用して、 b を r で割った剰余、 除数 r をその剰余で割った剰余、と剰余を求める計算を逐次繰り返すと、\n",
    "#剰余が 0 になった時の除数が a と b との最大公約数となる。 "
   ]
  },
  {
   "cell_type": "code",
   "execution_count": 65,
   "metadata": {},
   "outputs": [],
   "source": [
    "#公約数を求める\n",
    "def gcd(a,b):\n",
    "    while b > 0:\n",
    "        r = a%b\n",
    "        a = b\n",
    "        b = r\n",
    "    return a\n",
    "#a ≧ bがマストであることに注意。うまくやるならa < bであればbreakにしてしまえば良いけど、エラー回避作るのめんどくさい。。。"
   ]
  },
  {
   "cell_type": "code",
   "execution_count": 66,
   "metadata": {},
   "outputs": [],
   "source": [
    "#公倍数を求める\n",
    "def lcm(a, b):\n",
    "    return a * b/gcd(a,b)"
   ]
  },
  {
   "cell_type": "code",
   "execution_count": 67,
   "metadata": {},
   "outputs": [
    {
     "name": "stdout",
     "output_type": "stream",
     "text": [
      "2.0\n",
      "6.0\n",
      "12.0\n",
      "60.0\n",
      "60.0\n",
      "420.0\n",
      "840.0\n",
      "2520.0\n",
      "2520.0\n",
      "27720.0\n",
      "27720.0\n",
      "360360.0\n",
      "360360.0\n",
      "360360.0\n",
      "720720.0\n",
      "12252240.0\n",
      "12252240.0\n",
      "232792560.0\n",
      "232792560.0\n",
      "answer is 232792560.0\n"
     ]
    }
   ],
   "source": [
    "common_multiple = 2  # initialized by 1\n",
    "for i in num:\n",
    "    new_common_multiple = lcm(i, common_multiple)\n",
    "    print(new_common_multiple)        \n",
    "    common_multiple = new_common_multiple\n",
    "print('answer is ' + str(common_multiple))\n",
    "\n"
   ]
  },
  {
   "cell_type": "code",
   "execution_count": null,
   "metadata": {},
   "outputs": [],
   "source": []
  }
 ],
 "metadata": {
  "kernelspec": {
   "display_name": "Python 3",
   "language": "python",
   "name": "python3"
  },
  "language_info": {
   "codemirror_mode": {
    "name": "ipython",
    "version": 3
   },
   "file_extension": ".py",
   "mimetype": "text/x-python",
   "name": "python",
   "nbconvert_exporter": "python",
   "pygments_lexer": "ipython3",
   "version": "3.7.3"
  }
 },
 "nbformat": 4,
 "nbformat_minor": 2
}
