{
 "cells": [
  {
   "cell_type": "code",
   "execution_count": 1,
   "metadata": {},
   "outputs": [],
   "source": [
    "#ピタゴラス数(ピタゴラスの定理を満たす自然数)とは a < b < c で以下の式を満たす数の組である.\n",
    "#a2 + b2 = c2\n",
    "#a + b + c = 1000 となるピタゴラスの三つ組が一つだけ存在する.\n",
    "#これらの積 abc を計算しなさい.\n",
    "#手順：c = 1000 - a - bとなるので、c2 = a2 + b2 + 1000000 - 2000a - 2000b + 2ab\n",
    "#ピタゴラスの式は-2ab + 2000a + 2000b = 1000000 ⇔ -ab + 1000a + 1000b - 500000=0と書き直せる。(0< a, b < 1000)\n",
    "#これを解いていく。a+b+c = dとして一般化。"
   ]
  },
  {
   "cell_type": "code",
   "execution_count": 25,
   "metadata": {},
   "outputs": [],
   "source": [
    "def find_ab(d):\n",
    "    for a in range(d):\n",
    "        for b in range(d):\n",
    "            if -(a+1)*(b+1) + d*(a+1) + d*(b+1) - d**2/2 == 0:\n",
    "                return a+1, b+1, d-(a+1)-(b+1)\n",
    "#問題は答えが一組だけと書いているのでifで終わらせている。複数組みあった場合はappendを使う…？"
   ]
  },
  {
   "cell_type": "code",
   "execution_count": 26,
   "metadata": {},
   "outputs": [
    {
     "data": {
      "text/plain": [
       "(200, 375, 425)"
      ]
     },
     "execution_count": 26,
     "metadata": {},
     "output_type": "execute_result"
    }
   ],
   "source": [
    "find_ab(1000)"
   ]
  },
  {
   "cell_type": "code",
   "execution_count": null,
   "metadata": {},
   "outputs": [],
   "source": []
  },
  {
   "cell_type": "code",
   "execution_count": null,
   "metadata": {},
   "outputs": [],
   "source": []
  },
  {
   "cell_type": "code",
   "execution_count": null,
   "metadata": {},
   "outputs": [],
   "source": []
  }
 ],
 "metadata": {
  "kernelspec": {
   "display_name": "Python 3",
   "language": "python",
   "name": "python3"
  },
  "language_info": {
   "codemirror_mode": {
    "name": "ipython",
    "version": 3
   },
   "file_extension": ".py",
   "mimetype": "text/x-python",
   "name": "python",
   "nbconvert_exporter": "python",
   "pygments_lexer": "ipython3",
   "version": "3.7.3"
  }
 },
 "nbformat": 4,
 "nbformat_minor": 2
}
